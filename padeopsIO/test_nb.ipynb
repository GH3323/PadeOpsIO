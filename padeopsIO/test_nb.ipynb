{
 "cells": [
  {
   "cell_type": "markdown",
   "metadata": {},
   "source": [
    "# Testing notebook for BudgetIO\n"
   ]
  },
  {
   "cell_type": "code",
   "execution_count": 3,
   "metadata": {},
   "outputs": [
    {
     "name": "stdout",
     "output_type": "stream",
     "text": [
      "../test_data/Run01_info_t000000.out not found.\n",
      "BudgetIO initialized using .npz files.\n",
      "Initialized BudgetIO at../test_datafrom .npz files. \n"
     ]
    },
    {
     "name": "stderr",
     "output_type": "stream",
     "text": [
      "c:\\Kirby\\School\\01_MIT\\howland\\padeopIO\\padeopsIO\\padeopsIO.py:88: UserWarning: Attempted to read PadeOps output files, but at least one was missing.\n",
      "  warnings.warn('Attempted to read PadeOps output files, but at least one was missing.')\n"
     ]
    }
   ],
   "source": [
    "import os \n",
    "import sys\n",
    "import numpy as np\n",
    "from importlib import reload\n",
    "\n",
    "# sys.path.append(r'../src/')  # why is this different from testing.py? \n",
    "import padeopsIO\n",
    "from padeopsIO import BudgetIO\n",
    "\n",
    "testIO = BudgetIO(r'../test_data', Lx=1, Ly=1, Lz=1, runid=1, verbose=True)\n"
   ]
  },
  {
   "cell_type": "code",
   "execution_count": 5,
   "metadata": {},
   "outputs": [
    {
     "name": "stdout",
     "output_type": "stream",
     "text": [
      "../test_data/Run01_info_t000000.out not found.\n",
      "BudgetIO initialized using .npz files.\n",
      "Initialized BudgetIO at../test_datafrom .npz files. \n"
     ]
    }
   ],
   "source": [
    "# reload module, if necessary: \n",
    "padeopsIO = reload(padeopsIO)\n",
    "from padeopsIO import BudgetIO\n",
    "\n",
    "testIO = BudgetIO(r'../test_data', Lx=1, Ly=1, Lz=1, runid=1, verbose=True)\n"
   ]
  },
  {
   "cell_type": "code",
   "execution_count": 6,
   "metadata": {},
   "outputs": [
    {
     "data": {
      "text/plain": [
       "{'verbose': True,\n",
       " 'dir_name': '../test_data',\n",
       " 'filename': 'test_data',\n",
       " 'filename_budgets': 'test_data_budgets.npz',\n",
       " 'associate_padeops': False,\n",
       " 'associate_npz': True,\n",
       " 'runid': 1,\n",
       " 'Lx': 1,\n",
       " 'Ly': 1,\n",
       " 'Lz': 1,\n",
       " 'tidx': 0,\n",
       " 'associate_budget': False,\n",
       " 'budget': {}}"
      ]
     },
     "execution_count": 6,
     "metadata": {},
     "output_type": "execute_result"
    }
   ],
   "source": [
    "testIO.__dict__"
   ]
  },
  {
   "cell_type": "code",
   "execution_count": 7,
   "metadata": {},
   "outputs": [
    {
     "name": "stdout",
     "output_type": "stream",
     "text": [
      "['../test_data\\\\r0s0v1_budget0.npz', '../test_data\\\\test_data_budgets.npz']\n"
     ]
    }
   ],
   "source": [
    "import glob\n",
    "\n",
    "budget_list = glob.glob(testIO.dir_name + os.sep + '*_budget*.npz')\n",
    "print(budget_list)"
   ]
  },
  {
   "cell_type": "code",
   "execution_count": 8,
   "metadata": {},
   "outputs": [
    {
     "data": {
      "text/plain": [
       "{1: 'a', 2: 'b', 3: 'c', 4: 'd'}"
      ]
     },
     "execution_count": 8,
     "metadata": {},
     "output_type": "execute_result"
    }
   ],
   "source": [
    "# this is how to merge dictionaries \n",
    "dict1 = {1: 'a', 2: 'b'}\n",
    "dict2 = {3: 'c', 4:'d'}\n",
    "dict3 = {1: 'e'}\n",
    "\n",
    "newdict = {**dict1, **dict2}\n",
    "newdict"
   ]
  },
  {
   "cell_type": "markdown",
   "metadata": {},
   "source": [
    "### Playing with budget keys"
   ]
  },
  {
   "cell_type": "code",
   "execution_count": 12,
   "metadata": {},
   "outputs": [
    {
     "name": "stdout",
     "output_type": "stream",
     "text": [
      "hello\n"
     ]
    }
   ],
   "source": [
    "import budget_key\n",
    "\n",
    "keys = budget_key.get_key()\n",
    "\n",
    "budget_terms = [(0, 1), (0, 2), (1, 3)]\n",
    "\n",
    "if all(budget in keys.inverse.keys() for budget in budget_terms): \n",
    "    print('hello')"
   ]
  },
  {
   "cell_type": "code",
   "execution_count": 10,
   "metadata": {},
   "outputs": [],
   "source": [
    "key_subset = {keys.inverse[key][0]: key for key in budget_terms}"
   ]
  },
  {
   "cell_type": "code",
   "execution_count": 13,
   "metadata": {},
   "outputs": [
    {
     "name": "stdout",
     "output_type": "stream",
     "text": [
      "{'u_bar': (0, 1), 'v_bar': (0, 2), 'xSGS': (1, 3)}\n"
     ]
    }
   ],
   "source": [
    "stuff = testIO._parse_budget_terms(budget_terms)\n",
    "\n",
    "print(stuff)"
   ]
  },
  {
   "cell_type": "code",
   "execution_count": 33,
   "metadata": {},
   "outputs": [
    {
     "data": {
      "text/plain": [
       "67109000"
      ]
     },
     "execution_count": 33,
     "metadata": {},
     "output_type": "execute_result"
    }
   ],
   "source": [
    "npz = np.load(r'../test_data/r0s0v1_budget0.npz', mmap_mode='r')\n"
   ]
  }
 ],
 "metadata": {
  "interpreter": {
   "hash": "7b5528b4de3d677c86178f72bd936ff0e2f3aabc86599b82083daabec5c63802"
  },
  "kernelspec": {
   "display_name": "Python 3.9.7 ('base')",
   "language": "python",
   "name": "python3"
  },
  "language_info": {
   "codemirror_mode": {
    "name": "ipython",
    "version": 3
   },
   "file_extension": ".py",
   "mimetype": "text/x-python",
   "name": "python",
   "nbconvert_exporter": "python",
   "pygments_lexer": "ipython3",
   "version": "3.9.7"
  },
  "orig_nbformat": 4
 },
 "nbformat": 4,
 "nbformat_minor": 2
}
