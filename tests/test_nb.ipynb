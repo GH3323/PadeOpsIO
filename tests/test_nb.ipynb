{
 "cells": [
  {
   "cell_type": "markdown",
   "metadata": {},
   "source": [
    "# Testing notebook for BudgetIO\n"
   ]
  },
  {
   "cell_type": "code",
   "execution_count": 19,
   "metadata": {},
   "outputs": [
    {
     "name": "stdout",
     "output_type": "stream",
     "text": [
      "../test_data/Run01_info_t000000.out not found.\n"
     ]
    }
   ],
   "source": [
    "import os \n",
    "import sys\n",
    "import numpy as np\n",
    "from importlib import reload\n",
    "\n",
    "sys.path.append(r'../python/')  # why is this different from testing.py? \n",
    "# from PadeOpsIO import BudgetIO\n",
    "import PadeOpsIO\n",
    "from PadeOpsIO import BudgetIO\n",
    "\n",
    "# testIO = BudgetIO('some_dir', verbose=False)\n",
    "testIO = BudgetIO(r'../test_data', Lx=1, Ly=1, Lz=1, runid=1, verbose=True)\n"
   ]
  },
  {
   "cell_type": "code",
   "execution_count": 17,
   "metadata": {},
   "outputs": [
    {
     "name": "stderr",
     "output_type": "stream",
     "text": [
      "c:\\Kirby\\School\\01_MIT\\howland\\PadeOpsIO\\tests\\../python\\PadeOpsIO.py:9: UserWarning: Could not find package f90nml in system path. \n",
      "  warnings.warn(\"Could not find package f90nml in system path. \")\n"
     ]
    }
   ],
   "source": [
    "# reload module, if necessary: \n",
    "PadeOpsIO = reload(PadeOpsIO)\n",
    "from PadeOpsIO import BudgetIO\n"
   ]
  },
  {
   "cell_type": "code",
   "execution_count": 4,
   "metadata": {},
   "outputs": [
    {
     "data": {
      "text/plain": [
       "{'verbose': True,\n",
       " 'dir_name': 'random_dir',\n",
       " 'filename': 'random_dir',\n",
       " 'associate_padeops': False,\n",
       " 'runid': 1,\n",
       " 'Lx': 1,\n",
       " 'Ly': 1,\n",
       " 'Lz': 1,\n",
       " 'tidx': 0}"
      ]
     },
     "execution_count": 4,
     "metadata": {},
     "output_type": "execute_result"
    }
   ],
   "source": [
    "testIO.__dict__"
   ]
  },
  {
   "cell_type": "code",
   "execution_count": 21,
   "metadata": {},
   "outputs": [
    {
     "data": {
      "text/plain": [
       "['r0s0v1_budget0.npz']"
      ]
     },
     "execution_count": 21,
     "metadata": {},
     "output_type": "execute_result"
    }
   ],
   "source": [
    "os.listdir(testIO.dir_name)"
   ]
  },
  {
   "cell_type": "code",
   "execution_count": 40,
   "metadata": {},
   "outputs": [],
   "source": [
    "import glob\n",
    "\n",
    "budget_list = glob.glob(testIO.dir_name + os.sep + '*_budget*.npz')"
   ]
  },
  {
   "cell_type": "code",
   "execution_count": 41,
   "metadata": {},
   "outputs": [],
   "source": [
    "npz = np.load(budget_list[0])"
   ]
  },
  {
   "cell_type": "code",
   "execution_count": 49,
   "metadata": {},
   "outputs": [
    {
     "data": {
      "text/plain": [
       "{1: 'a', 2: 'b', 3: 'c', 4: 'd'}"
      ]
     },
     "execution_count": 49,
     "metadata": {},
     "output_type": "execute_result"
    }
   ],
   "source": [
    "# this is how to merge dictionaries \n",
    "dict1 = {1: 'a', 2: 'b'}\n",
    "dict2 = {3: 'c', 4:'d'}\n",
    "dict3 = {1: 'e'}\n",
    "\n",
    "newdict = {**dict1, **dict2}\n",
    "newdict"
   ]
  }
 ],
 "metadata": {
  "interpreter": {
   "hash": "7b5528b4de3d677c86178f72bd936ff0e2f3aabc86599b82083daabec5c63802"
  },
  "kernelspec": {
   "display_name": "Python 3.9.7 ('base')",
   "language": "python",
   "name": "python3"
  },
  "language_info": {
   "codemirror_mode": {
    "name": "ipython",
    "version": 3
   },
   "file_extension": ".py",
   "mimetype": "text/x-python",
   "name": "python",
   "nbconvert_exporter": "python",
   "pygments_lexer": "ipython3",
   "version": "3.9.7"
  },
  "orig_nbformat": 4
 },
 "nbformat": 4,
 "nbformat_minor": 2
}
